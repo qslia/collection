{
 "cells": [
  {
   "cell_type": "markdown",
   "id": "f35f2955",
   "metadata": {},
   "source": [
    "#### python static method: Use Staticmethod() and @Staticmethod\n",
    "\n",
    "Static methods in Python are incredibly similar to Python class-level methods, the difference being that a static method is bound to a class rather than the objects for that class"
   ]
  },
  {
   "cell_type": "markdown",
   "id": "cf3807ed",
   "metadata": {},
   "source": [
    "#### python staticmethod()\n",
    "\n",
    "python staticmethod() is a built-in function that returns a static method for a given function. This method is similar to the Python class-level method, but the difference is, this method is only bound to class rather than class object. Therefore, we cannot modify any class object using the staticmethod() function as objects are not bound to it.\n",
    "\n",
    "This means that a static method can be called without an object for that class. This also means that static methods cannot modify the state of an object as they are not bound to it."
   ]
  },
  {
   "cell_type": "markdown",
   "id": "9777ae16",
   "metadata": {},
   "source": [
    "#### Syntax\n",
    "\n",
    "```python\n",
    "staticmethod(function)\n",
    "```"
   ]
  },
  {
   "cell_type": "markdown",
   "id": "33b3e4f2",
   "metadata": {},
   "source": [
    "#### Arguments\n",
    "\n",
    "The function arguments is the function present inside the class and needs to be converted.\n",
    "\n",
    "However, the above method is an un-Pythonic way to create a staticmethod; the newer way is:\n",
    "\n",
    "```python\n",
    "@staticmethod\n",
    "def func(args, ...)\n",
    "```\n",
    "\n",
    "Here, we have used @staticmethod.\n",
    "\n",
    "The static method returns a static method of a given function."
   ]
  },
  {
   "cell_type": "markdown",
   "id": "b527ef10",
   "metadata": {},
   "source": [
    "#### Creating python static methods\n",
    "\n",
    "Python Static methods can be created in two ways. Let's see the first method.\n",
    "\n",
    "#### Using staticmethod()\n",
    "\n",
    "Let's see how to use the static method() approach."
   ]
  },
  {
   "cell_type": "code",
   "execution_count": 1,
   "id": "6a887bfd",
   "metadata": {},
   "outputs": [
    {
     "name": "stdout",
     "output_type": "stream",
     "text": [
      "Product: 231\n"
     ]
    }
   ],
   "source": [
    "# app.py\n",
    "class Mul:\n",
    "    def calculate(x, y):\n",
    "        return x * y\n",
    "\n",
    "# create addNumbers static method\n",
    "Mul.calculate = staticmethod(Mul.calculate)\n",
    "print('Product:', Mul.calculate(11, 21))"
   ]
  },
  {
   "cell_type": "markdown",
   "id": "871ab630",
   "metadata": {},
   "source": [
    "One thing to note is that we called the mul method we created without an object.\n",
    "\n",
    "There were no surprises there. This approach is controlled at each place, and it is possible to create a static method out of a class method. Let's see another approach with the same example here.\n",
    "\n",
    "See another example."
   ]
  },
  {
   "cell_type": "code",
   "execution_count": 2,
   "id": "68bc01bf",
   "metadata": {},
   "outputs": [
    {
     "name": "stdout",
     "output_type": "stream",
     "text": [
      "Sum of two numbers are:  30\n"
     ]
    }
   ],
   "source": [
    "# app.py\n",
    "\n",
    "# Defining a class named Sum\n",
    "class Sum:\n",
    "    # defining a function sumoftwo\n",
    "    # this function will be called in a static method\n",
    "    def sumoftwo(a, b):\n",
    "        return a + b\n",
    "    \n",
    "# Creating Static Method\n",
    "Sum.sumoftwo = staticmethod(Sum.sumoftwo)\n",
    "\n",
    "# Printing values by passing arguments\n",
    "print(\"Sum of two numbers are: \", Sum.sumoftwo(10, 20))"
   ]
  },
  {
   "cell_type": "markdown",
   "id": "3f6669f0",
   "metadata": {},
   "source": [
    "In this example, we have first created a class named `Sum` then created a function inside the class called `sumoftwo`.\n",
    "\n",
    "We have created a static method outside the class by calling this function, and then we have printed that."
   ]
  },
  {
   "cell_type": "markdown",
   "id": "54034e71",
   "metadata": {},
   "source": [
    "#### Using @staticmethod\n",
    "This is a more subtle way of creating a Static method as we do not have to rely on a statement definition of a method being a class method and making it static at each place you make it static.\n",
    "\n",
    "See the following example."
   ]
  },
  {
   "cell_type": "code",
   "execution_count": 3,
   "id": "ff68de5e",
   "metadata": {},
   "outputs": [
    {
     "name": "stdout",
     "output_type": "stream",
     "text": [
      "Sum of two numbers are:  30\n"
     ]
    }
   ],
   "source": [
    "# app.py\n",
    "\n",
    "# Defining a class name Sum\n",
    "class Sum:\n",
    "    # defining a function sumoftwo\n",
    "    # this function will be called in a static method\n",
    "    \n",
    "    # creating static method here only\n",
    "    @staticmethod\n",
    "    def sumoftwo(a, b):\n",
    "        return a + b\n",
    "\n",
    "# Printing values by passing arguments\n",
    "print(\"Sum of two numbers are: \", Sum.sumoftwo(10, 20))"
   ]
  },
  {
   "cell_type": "markdown",
   "id": "fc6d2365",
   "metadata": {},
   "source": [
    "In this example, like example 1, we have created a class, but when we create the function inside the class, we declare it as a static method, and then outside the class, we pass values and print he desired output.\n",
    "\n",
    "#### Advantages of Python static method\n",
    "\n",
    "Static methods have an obvious use case. When we need some functionality, not concerning an Object, but concerning the complete class, we make a method static.\n",
    "\n",
    "This is advantageous when we need to create Utility methods as they aren't tied to an object lifecycle.\n",
    "\n",
    "Finally, note that we don't need the self to be passed as the first argument in a static method."
   ]
  },
  {
   "cell_type": "code",
   "execution_count": null,
   "id": "9e3aa3a1",
   "metadata": {},
   "outputs": [],
   "source": []
  },
  {
   "cell_type": "code",
   "execution_count": null,
   "id": "8ceace78",
   "metadata": {},
   "outputs": [],
   "source": []
  },
  {
   "cell_type": "code",
   "execution_count": null,
   "id": "e2e249fd",
   "metadata": {},
   "outputs": [],
   "source": []
  },
  {
   "cell_type": "code",
   "execution_count": null,
   "id": "57d9b5a1",
   "metadata": {},
   "outputs": [],
   "source": []
  },
  {
   "cell_type": "code",
   "execution_count": null,
   "id": "8e8fa8b0",
   "metadata": {},
   "outputs": [],
   "source": []
  },
  {
   "cell_type": "code",
   "execution_count": null,
   "id": "738dcb3f",
   "metadata": {},
   "outputs": [],
   "source": []
  }
 ],
 "metadata": {
  "kernelspec": {
   "display_name": "Python 3 (ipykernel)",
   "language": "python",
   "name": "python3"
  },
  "language_info": {
   "codemirror_mode": {
    "name": "ipython",
    "version": 3
   },
   "file_extension": ".py",
   "mimetype": "text/x-python",
   "name": "python",
   "nbconvert_exporter": "python",
   "pygments_lexer": "ipython3",
   "version": "3.9.7"
  }
 },
 "nbformat": 4,
 "nbformat_minor": 5
}
