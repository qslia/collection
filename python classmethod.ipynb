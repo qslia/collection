{
 "cells": [
  {
   "cell_type": "markdown",
   "id": "ca94bd1c",
   "metadata": {},
   "source": [
    "#### [Python Classmethod: How To Use Classmethod() Function](https://appdividend.com/2019/07/25/python-classmethod-example-classmethod-in-python-tutorial/)\n",
    "\n",
    "Python is an OOP language. So, we will see how we can define and use class methods. We will see the ways in which we can create the class methods and call them in our program.\n",
    "\n",
    "#### Python classmethod()\n",
    "\n",
    "Pyhon classmethod() is an inbuilt function that returns the class method for the given function. The classmethod() method returns the class method for the given function. Python classmethod() is the way to define the function of the python class.\n",
    "\n",
    "A class method is a method that is bound to the class and not the object of the class.\n",
    "\n",
    "They have access to the state of the class as it takes the class parameter that points to a class and not an object instance.\n",
    "\n",
    "It can modify the class state that would apply across all the instances of the class.\n",
    "\n",
    "For example, it can change a class variable that will apply to all the instances.\n",
    "\n",
    "In Python, there are two types of functions that can be created in the program. They are:\n",
    "- 1. Static methods\n",
    "- 2. Class methods"
   ]
  },
  {
   "cell_type": "markdown",
   "id": "aa9f08af",
   "metadata": {},
   "source": [
    "#### Making Python class methods\n",
    "There are two ways to create class methods in Python:\n",
    "- 1. Using classmethod(function)\n",
    "- 2. Using @classmethod annotation\n",
    "\n",
    "#### Using @classmethod annotation\n",
    "The @classmethod [decorator](https://appdividend.com/2019/01/11/python-decorators-tutorial-with-example/) is the builtin function decorator that is expression that gets evaluated after your function is defined.\n",
    "\n",
    "The result of the evaluation shadows your function definition.\n",
    "\n",
    "see the following syntax.\n",
    "\n",
    "```python\n",
    "class c(object):\n",
    "    @classmethod\n",
    "    def fun(cls, arg1, arg2, ...):\n",
    "    ...\n",
    "fun: functions that needs to be converted into a class method\n",
    "returns: a class method for function\n",
    "```\n",
    "\n",
    "#### Using classmethod(function)\n",
    "#### Syntax\n",
    "```python\n",
    "classmethod(function)\n",
    "```"
   ]
  },
  {
   "cell_type": "markdown",
   "id": "be770bbd",
   "metadata": {},
   "source": [
    "#### classmethod() Parameters\n",
    "The classmethod() method takes the single parameter:\n",
    "- 1. functin - It is a function that needs to be converted into the class method.\n",
    "\n",
    "The classmethod() method returns the class method for the given function.\n",
    "\n",
    "#### What is the class method?\n",
    "The class method is the method that is bound to a class rather than its object. It doesn't require the creation of the class instance, much like the **staticmethod**.\n",
    "\n",
    "A class method can be called both by a class and its object.\n",
    "\n",
    "```python\n",
    "class.classmethod()\n",
    "Or even\n",
    "class().classmethod()\n",
    "```"
   ]
  },
  {
   "cell_type": "markdown",
   "id": "53c2d3f0",
   "metadata": {},
   "source": [
    "#### Create a class method using classmethod()\n",
    "Okay, now see the following code example."
   ]
  },
  {
   "cell_type": "code",
   "execution_count": 1,
   "id": "24db2872",
   "metadata": {},
   "outputs": [
    {
     "name": "stdout",
     "output_type": "stream",
     "text": [
      "The price is: 25\n"
     ]
    }
   ],
   "source": [
    "class App:\n",
    "    price = 25\n",
    "    \n",
    "    def printPrice(cls):\n",
    "        print('The price is:', cls.price)\n",
    "\n",
    "# create printPrice class method\n",
    "App.printPrice = classmethod(App.printPrice)\n",
    "App().printPrice()"
   ]
  },
  {
   "cell_type": "markdown",
   "id": "133315b7",
   "metadata": {},
   "source": [
    "Here, we have a class **APP**, with a member variable price assigned to 15.\n",
    "\n",
    "We also have a function **printPrice()** which takes a single parameters cls and not **self**, as we usually take.\n",
    "\n",
    "**The cls** accepts the class **App** as a parameter rather than the **App's** object/instance.\n",
    "\n",
    "Now, we pass the method **App.printPrice** as an argument to a function classmethod. It converts a method to the class method so that it accepts the first parameter as a class(i.e, APP).\n",
    "\n",
    "In the final line, we call `printPrice()` without creating an App object as we do for static methods. This prints the class variable price.\n",
    "\n",
    "#### Why we use classmethod\n",
    "- 1. We generally use the class method to create factory methods. Factory methods return the class object (similar to a constructor) for differen use cases.\n",
    "- 2. We generally use static methods to create utility functions."
   ]
  },
  {
   "cell_type": "markdown",
   "id": "ab19c6fd",
   "metadata": {},
   "source": [
    "#### How to define a class method and static method\n",
    "If we want to define the class method in python, we use the @classmethod decorator, and to define the static method; we use the @staticmethod decorator.\n",
    "\n",
    "#### Class method vs. Static Method\n",
    "- 1. The class method takes cls as the first parameter, while a static method needs no specific parameters.\n",
    "- 2. The class method can access or modify the class state while a static method can't access or change it.\n",
    "- 3. In general, static methods know nothing about the class state. Static methods are utility type methods that take some parameters and work upon those parameters. On the other hand, the class methods must have class as the parameter.\n",
    "- 4. We use the @classmethod decorator in python to create the class method, and we use the @staticmethod decorator to create a static method in python.\n",
    "\n",
    "#### Conclusion\n",
    "The @classmethod annotation decorator is used to create the factory methods as they can take any input and provide the class object based on the parameters and processing.\n",
    "\n",
    "If we use the decorator, it is possible to create as many constructors for a class which behaves as the factory constructors.\n",
    "\n",
    "Finally, Python classmethod() Example Tutorial is over."
   ]
  },
  {
   "cell_type": "code",
   "execution_count": null,
   "id": "49602208",
   "metadata": {},
   "outputs": [],
   "source": []
  },
  {
   "cell_type": "code",
   "execution_count": null,
   "id": "8a47d1a7",
   "metadata": {},
   "outputs": [],
   "source": []
  },
  {
   "cell_type": "code",
   "execution_count": null,
   "id": "8ef247e4",
   "metadata": {},
   "outputs": [],
   "source": []
  },
  {
   "cell_type": "code",
   "execution_count": null,
   "id": "219e9645",
   "metadata": {},
   "outputs": [],
   "source": []
  }
 ],
 "metadata": {
  "kernelspec": {
   "display_name": "Python 3 (ipykernel)",
   "language": "python",
   "name": "python3"
  },
  "language_info": {
   "codemirror_mode": {
    "name": "ipython",
    "version": 3
   },
   "file_extension": ".py",
   "mimetype": "text/x-python",
   "name": "python",
   "nbconvert_exporter": "python",
   "pygments_lexer": "ipython3",
   "version": "3.9.7"
  }
 },
 "nbformat": 4,
 "nbformat_minor": 5
}
