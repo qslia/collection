{
 "cells": [
  {
   "cell_type": "code",
   "execution_count": 11,
   "id": "ba7c18a3",
   "metadata": {},
   "outputs": [],
   "source": [
    "import numpy as np\n",
    "from copy import deepcopy"
   ]
  },
  {
   "cell_type": "code",
   "execution_count": 2,
   "id": "3e24c648",
   "metadata": {},
   "outputs": [],
   "source": [
    "def feed_forward(inputs, outputs, weights):\n",
    "    pre_hidden = np.dot(inputs, weights[0]) + weights[1]\n",
    "    hidden = 1 / (1 + np.exp(-pre_hidden))\n",
    "    pred_out = np.dot(hidden, weights[2]) + weights[3]\n",
    "    mean_squared_error = np.mean(np.square(pred_out - outputs))\n",
    "    \n",
    "    return mean_squared_error"
   ]
  },
  {
   "cell_type": "code",
   "execution_count": 3,
   "id": "ee97b1da",
   "metadata": {},
   "outputs": [],
   "source": [
    "def tanh(x):\n",
    "    return (np.exp(x) - np.exp(-x)) / (np.exp(x) + np.exp(-x))"
   ]
  },
  {
   "cell_type": "code",
   "execution_count": 4,
   "id": "58df6a51",
   "metadata": {},
   "outputs": [],
   "source": [
    "def relu(x):\n",
    "    return np.where(x>0, x, 0)"
   ]
  },
  {
   "cell_type": "code",
   "execution_count": 5,
   "id": "360ad470",
   "metadata": {},
   "outputs": [],
   "source": [
    "def linear(x):\n",
    "    x"
   ]
  },
  {
   "cell_type": "code",
   "execution_count": 6,
   "id": "322b39ae",
   "metadata": {},
   "outputs": [],
   "source": [
    "def softmax(x):\n",
    "    return np.exp(x) / np.sum(np.exp(x))"
   ]
  },
  {
   "cell_type": "code",
   "execution_count": 7,
   "id": "369b978c",
   "metadata": {},
   "outputs": [],
   "source": [
    "def mse(p, y):\n",
    "    return np.mean(np.square(p - y))"
   ]
  },
  {
   "cell_type": "code",
   "execution_count": 8,
   "id": "b1c5a87d",
   "metadata": {},
   "outputs": [],
   "source": [
    "def mae(p, y):\n",
    "    return np.mean(np.abs(p - y))"
   ]
  },
  {
   "cell_type": "code",
   "execution_count": 9,
   "id": "ebf6acd4",
   "metadata": {},
   "outputs": [],
   "source": [
    "def binary_cross_entropy(p, y):\n",
    "    return -np.mean(np.sum((y*np.log(p)+(1-y)*np.log(1-p))))"
   ]
  },
  {
   "cell_type": "code",
   "execution_count": 10,
   "id": "44044b97",
   "metadata": {},
   "outputs": [],
   "source": [
    "def categorical_cross_entropy(p, y):\n",
    "    return -np.mean(np.sum(y*np.log(p)))"
   ]
  },
  {
   "cell_type": "code",
   "execution_count": 12,
   "id": "c8a35554",
   "metadata": {},
   "outputs": [],
   "source": [
    "def feed_forward(inputs, outputs, weights):\n",
    "    pre_hidden = np.dot(inputs, weights[0]) + weights[1]\n",
    "    hidden = 1 / (1 + np.exp(-pre_hiden))\n",
    "    pred_out = np.dot(hidden, weights[2]) + weights[3]\n",
    "    mean_squared_error = np.mean(np.square(pred_out - outputs))\n",
    "    \n",
    "    return mean_squared_error"
   ]
  },
  {
   "cell_type": "code",
   "execution_count": 15,
   "id": "cb7db000",
   "metadata": {},
   "outputs": [],
   "source": [
    "def update_weights(inputs, outputs, weights, lr):\n",
    "    original_weights = deepcopy(weights)\n",
    "    temp_weights = deepcopy(weights)\n",
    "    updated_weights = deepcopy(weights)\n",
    "    original_loss = feed_forward(inputs, outputs, original_weights)\n",
    "    for i, layer in enumerate(original_weights):\n",
    "        for index, weight in np.ndenumerate(layer):\n",
    "            temp_weights = deepcopy(weights)\n",
    "            temp_weights[i][index] += 0.0001\n",
    "            _loss_plus = feed_forward(inputs, outputs, temp_weights)\n",
    "            grad = (_loss_plus - original_loss) / (0.0001)\n",
    "            updated_weights[i][index] -= grad*lr\n",
    "            \n",
    "    return updated_weights, original_loss"
   ]
  },
  {
   "cell_type": "code",
   "execution_count": null,
   "id": "b42344ce",
   "metadata": {},
   "outputs": [],
   "source": []
  }
 ],
 "metadata": {
  "kernelspec": {
   "display_name": "Python 3 (ipykernel)",
   "language": "python",
   "name": "python3"
  },
  "language_info": {
   "codemirror_mode": {
    "name": "ipython",
    "version": 3
   },
   "file_extension": ".py",
   "mimetype": "text/x-python",
   "name": "python",
   "nbconvert_exporter": "python",
   "pygments_lexer": "ipython3",
   "version": "3.9.7"
  }
 },
 "nbformat": 4,
 "nbformat_minor": 5
}
