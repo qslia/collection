{
 "cells": [
  {
   "cell_type": "markdown",
   "id": "e3be3ec8",
   "metadata": {},
   "source": [
    "You will find an attached excel file, W06-IrisData.xls, in the assignment\n",
    "package, which contains the four features, i.e., Sepal Length, Sepal Width,\n",
    "Petal Length, and Petal Width, of 150 samples from three categories of\n",
    "irises (50 samples per category)"
   ]
  },
  {
   "cell_type": "markdown",
   "id": "04bad05c",
   "metadata": {},
   "source": [
    "In this assignment, you are required to write code using Python, to\n",
    "implement a single layer perceptron to classify `Versicolor` and `Virginica`,\n",
    "using all four features. When submitting the answer sheet, you shall paste\n",
    "your Python code, tables presenting results, and **figures visualization the\n",
    "development of classification accuracy in terms of epochs**."
   ]
  },
  {
   "cell_type": "markdown",
   "id": "2a52d394",
   "metadata": {},
   "source": [
    "1) Write the code to read the whole Iris Dataset and extract all the\n",
    "features for all of the 100 samples of Versicolor and Virginica. Set the\n",
    "ground truth label of Versicolor as 1 and Virginica as -1. For each\n",
    "category of them, use the first 40 samples as the training set and the\n",
    "remaining 10 samples as the test set. Normalize the features of both\n",
    "the training set and the test set, such that the mean of each feature is\n",
    "0."
   ]
  },
  {
   "cell_type": "code",
   "execution_count": 1,
   "id": "fa5ccdef",
   "metadata": {},
   "outputs": [],
   "source": [
    "import pandas as pd\n",
    "import numpy as np\n",
    "import matplotlib.pyplot as plt"
   ]
  },
  {
   "cell_type": "code",
   "execution_count": 2,
   "id": "71040694",
   "metadata": {},
   "outputs": [],
   "source": [
    "df = pd.read_csv('W06-IrisData.csv')"
   ]
  },
  {
   "cell_type": "code",
   "execution_count": 3,
   "id": "df98b087",
   "metadata": {},
   "outputs": [
    {
     "data": {
      "text/html": [
       "<div>\n",
       "<style scoped>\n",
       "    .dataframe tbody tr th:only-of-type {\n",
       "        vertical-align: middle;\n",
       "    }\n",
       "\n",
       "    .dataframe tbody tr th {\n",
       "        vertical-align: top;\n",
       "    }\n",
       "\n",
       "    .dataframe thead th {\n",
       "        text-align: right;\n",
       "    }\n",
       "</style>\n",
       "<table border=\"1\" class=\"dataframe\">\n",
       "  <thead>\n",
       "    <tr style=\"text-align: right;\">\n",
       "      <th></th>\n",
       "      <th>Id</th>\n",
       "      <th>SepalLengthCm</th>\n",
       "      <th>SepalWidthCm</th>\n",
       "      <th>PetalLengthCm</th>\n",
       "      <th>PetalWidthCm</th>\n",
       "      <th>Species</th>\n",
       "    </tr>\n",
       "  </thead>\n",
       "  <tbody>\n",
       "    <tr>\n",
       "      <th>145</th>\n",
       "      <td>146</td>\n",
       "      <td>6.7</td>\n",
       "      <td>3.0</td>\n",
       "      <td>5.2</td>\n",
       "      <td>2.3</td>\n",
       "      <td>Iris-virginica</td>\n",
       "    </tr>\n",
       "    <tr>\n",
       "      <th>146</th>\n",
       "      <td>147</td>\n",
       "      <td>6.3</td>\n",
       "      <td>2.5</td>\n",
       "      <td>5.0</td>\n",
       "      <td>1.9</td>\n",
       "      <td>Iris-virginica</td>\n",
       "    </tr>\n",
       "    <tr>\n",
       "      <th>147</th>\n",
       "      <td>148</td>\n",
       "      <td>6.5</td>\n",
       "      <td>3.0</td>\n",
       "      <td>5.2</td>\n",
       "      <td>2.0</td>\n",
       "      <td>Iris-virginica</td>\n",
       "    </tr>\n",
       "    <tr>\n",
       "      <th>148</th>\n",
       "      <td>149</td>\n",
       "      <td>6.2</td>\n",
       "      <td>3.4</td>\n",
       "      <td>5.4</td>\n",
       "      <td>2.3</td>\n",
       "      <td>Iris-virginica</td>\n",
       "    </tr>\n",
       "    <tr>\n",
       "      <th>149</th>\n",
       "      <td>150</td>\n",
       "      <td>5.9</td>\n",
       "      <td>3.0</td>\n",
       "      <td>5.1</td>\n",
       "      <td>1.8</td>\n",
       "      <td>Iris-virginica</td>\n",
       "    </tr>\n",
       "  </tbody>\n",
       "</table>\n",
       "</div>"
      ],
      "text/plain": [
       "      Id  SepalLengthCm  SepalWidthCm  PetalLengthCm  PetalWidthCm  \\\n",
       "145  146            6.7           3.0            5.2           2.3   \n",
       "146  147            6.3           2.5            5.0           1.9   \n",
       "147  148            6.5           3.0            5.2           2.0   \n",
       "148  149            6.2           3.4            5.4           2.3   \n",
       "149  150            5.9           3.0            5.1           1.8   \n",
       "\n",
       "            Species  \n",
       "145  Iris-virginica  \n",
       "146  Iris-virginica  \n",
       "147  Iris-virginica  \n",
       "148  Iris-virginica  \n",
       "149  Iris-virginica  "
      ]
     },
     "execution_count": 3,
     "metadata": {},
     "output_type": "execute_result"
    }
   ],
   "source": [
    "df.tail()"
   ]
  },
  {
   "cell_type": "code",
   "execution_count": 4,
   "id": "23e420df",
   "metadata": {},
   "outputs": [],
   "source": [
    "# df[50:100]"
   ]
  },
  {
   "cell_type": "code",
   "execution_count": 5,
   "id": "e157fdea",
   "metadata": {},
   "outputs": [],
   "source": [
    "# df[100:150]"
   ]
  },
  {
   "cell_type": "markdown",
   "id": "214b4ce3",
   "metadata": {},
   "source": [
    "### Set the ground truth label of Versicolor as 1 and Virginica as -1"
   ]
  },
  {
   "cell_type": "code",
   "execution_count": 6,
   "id": "3ffeccc2",
   "metadata": {},
   "outputs": [
    {
     "data": {
      "text/plain": [
       "array(['Iris-versicolor', 'Iris-virginica'], dtype=object)"
      ]
     },
     "execution_count": 6,
     "metadata": {},
     "output_type": "execute_result"
    }
   ],
   "source": [
    "y_name = df.iloc[50:150, 5].values\n",
    "np.unique(y_name)"
   ]
  },
  {
   "cell_type": "code",
   "execution_count": 7,
   "id": "3a7aacee",
   "metadata": {},
   "outputs": [],
   "source": [
    "y_label = np.where(y_name == 'Iris-versicolor', 1, -1)"
   ]
  },
  {
   "cell_type": "code",
   "execution_count": 8,
   "id": "a5a757ba",
   "metadata": {},
   "outputs": [
    {
     "data": {
      "text/plain": [
       "array([ 1,  1,  1,  1,  1,  1,  1,  1,  1,  1,  1,  1,  1,  1,  1,  1,  1,\n",
       "        1,  1,  1,  1,  1,  1,  1,  1,  1,  1,  1,  1,  1,  1,  1,  1,  1,\n",
       "        1,  1,  1,  1,  1,  1,  1,  1,  1,  1,  1,  1,  1,  1,  1,  1, -1,\n",
       "       -1, -1, -1, -1, -1, -1, -1, -1, -1, -1, -1, -1, -1, -1, -1, -1, -1,\n",
       "       -1, -1, -1, -1, -1, -1, -1, -1, -1, -1, -1, -1, -1, -1, -1, -1, -1,\n",
       "       -1, -1, -1, -1, -1, -1, -1, -1, -1, -1, -1, -1, -1, -1, -1])"
      ]
     },
     "execution_count": 8,
     "metadata": {},
     "output_type": "execute_result"
    }
   ],
   "source": [
    "y_label"
   ]
  },
  {
   "cell_type": "markdown",
   "id": "01538e0f",
   "metadata": {},
   "source": [
    "### use the first 40 samples as the training set and the remaining 10 samples as the test set"
   ]
  },
  {
   "cell_type": "code",
   "execution_count": 9,
   "id": "997e7162",
   "metadata": {},
   "outputs": [],
   "source": [
    "X = df.iloc[50:150, [1, 2, 3, 4]].values.astype('float')"
   ]
  },
  {
   "cell_type": "code",
   "execution_count": 10,
   "id": "c1736266",
   "metadata": {},
   "outputs": [],
   "source": [
    "Iris_versicolor_train = np.asarray(X[0:40])\n",
    "Iris_versicolor_test = np.asarray(X[40:50])\n",
    "Iris_versicolor_train_y_label = np.asarray(y_label[0:40])\n",
    "Iris_versicolor_test_y_label = np.asarray(y_label[40:50])"
   ]
  },
  {
   "cell_type": "code",
   "execution_count": 11,
   "id": "db580b55",
   "metadata": {},
   "outputs": [],
   "source": [
    "Iris_virginica_train = np.asarray(X[50:90])\n",
    "Iris_virginica_test = np.asarray(X[90:100])\n",
    "Iris_virginica_train_y_label = np.asarray(y_label[50:90])\n",
    "Iris_virginica_test_y_label = np.asarray(y_label[90:100])"
   ]
  },
  {
   "cell_type": "code",
   "execution_count": 12,
   "id": "4ab54d79",
   "metadata": {},
   "outputs": [],
   "source": [
    "training_set = np.concatenate((Iris_versicolor_train, \n",
    "                               Iris_virginica_train))\n",
    "training_set_y_label = np.concatenate((Iris_versicolor_train_y_label, \n",
    "                               Iris_virginica_train_y_label))"
   ]
  },
  {
   "cell_type": "code",
   "execution_count": 13,
   "id": "870414b5",
   "metadata": {},
   "outputs": [],
   "source": [
    "test_set = np.concatenate((Iris_versicolor_test, \n",
    "                           Iris_virginica_test))\n",
    "test_set_y_label = np.concatenate((Iris_versicolor_test_y_label, \n",
    "                                   Iris_virginica_test_y_label))"
   ]
  },
  {
   "cell_type": "markdown",
   "id": "1bfc1884",
   "metadata": {},
   "source": [
    "### Normalize the features of both the training set and the test set, such that the mean of each feature is 0."
   ]
  },
  {
   "cell_type": "code",
   "execution_count": 14,
   "id": "683012ba",
   "metadata": {},
   "outputs": [],
   "source": [
    "training_set_std = np.copy(training_set)\n",
    "training_set_std = (training_set - training_set.mean()) / training_set.std()"
   ]
  },
  {
   "cell_type": "code",
   "execution_count": 15,
   "id": "02a07505",
   "metadata": {},
   "outputs": [],
   "source": [
    "test_set_std = np.copy(test_set)\n",
    "test_set_std = (test_set - test_set.mean()) / test_set.std()"
   ]
  },
  {
   "cell_type": "markdown",
   "id": "bb94572c",
   "metadata": {},
   "source": [
    "2) **From the above task description, what are the input dimension and\n",
    "output dimension of the single layer perceptron?** \n",
    "\n",
    "**Answer:**  input dimension (4,1) and output dimension (1,1)\n",
    "\n",
    "**How many weights\n",
    "and biases do you need to build this single layer perceptron?**\n",
    "\n",
    "**Answer:** 4 weights and 1 biases"
   ]
  },
  {
   "cell_type": "markdown",
   "id": "3ed7b6db",
   "metadata": {},
   "source": [
    "3) Build the single layer perceptron according to the answer of Q2.\n",
    "**Randomly initialize the values of weights w and bias t (ensure that the\n",
    "value of w and t are sampled from a standard normal distribution with\n",
    "0 mean and 1 std) and print out the exact values of them**. Use the given\n",
    "activation function and write the code to calculate the output value of\n",
    "the\n",
    "sample\n",
    "**(SepalLengthCm=7,\n",
    "SepalWidthCm=3.2,\n",
    "PetalLengthCm=4.7, PetalWidthCm=1.4)**. Explain what would happen\n",
    "when initializing the values of all **w** and **b** as 0.\n",
    "\n",
    "![](images/1.png)"
   ]
  },
  {
   "cell_type": "code",
   "execution_count": 16,
   "id": "68accfce",
   "metadata": {},
   "outputs": [
    {
     "data": {
      "text/plain": [
       "array([7. , 3.2, 4.7, 1.4])"
      ]
     },
     "execution_count": 16,
     "metadata": {},
     "output_type": "execute_result"
    }
   ],
   "source": [
    "X = np.array([7, 3.2, 4.7, 1.4])\n",
    "X"
   ]
  },
  {
   "cell_type": "code",
   "execution_count": 17,
   "id": "f41f3bc9",
   "metadata": {},
   "outputs": [
    {
     "data": {
      "text/plain": [
       "array([0.3, 0.3, 0.3, 0.3])"
      ]
     },
     "execution_count": 17,
     "metadata": {},
     "output_type": "execute_result"
    }
   ],
   "source": [
    "W = np.array([0.3, 0.3, 0.3, 0.3])\n",
    "W"
   ]
  },
  {
   "cell_type": "code",
   "execution_count": 18,
   "id": "66817ca1",
   "metadata": {},
   "outputs": [],
   "source": [
    "t  = 0.4"
   ]
  },
  {
   "cell_type": "code",
   "execution_count": 19,
   "id": "73de7b4c",
   "metadata": {},
   "outputs": [
    {
     "data": {
      "text/plain": [
       "5.29"
      ]
     },
     "execution_count": 19,
     "metadata": {},
     "output_type": "execute_result"
    }
   ],
   "source": [
    "np.dot(X, W) + t"
   ]
  },
  {
   "cell_type": "markdown",
   "id": "88e735fa",
   "metadata": {},
   "source": [
    "### with initial weights and bias"
   ]
  },
  {
   "cell_type": "code",
   "execution_count": 20,
   "id": "934f085b",
   "metadata": {},
   "outputs": [
    {
     "data": {
      "text/plain": [
       "array([7. , 3.2, 4.7, 1.4])"
      ]
     },
     "execution_count": 20,
     "metadata": {},
     "output_type": "execute_result"
    }
   ],
   "source": [
    "X = np.array([7, 3.2, 4.7, 1.4])\n",
    "X"
   ]
  },
  {
   "cell_type": "code",
   "execution_count": 21,
   "id": "17bb54fd",
   "metadata": {},
   "outputs": [
    {
     "name": "stdout",
     "output_type": "stream",
     "text": [
      "init weights: [ 1.62434536 -0.61175641 -0.52817175 -1.07296862]\n",
      "init bias: [ 0.86540763 -2.3015387   1.74481176 -0.7612069 ]\n"
     ]
    }
   ],
   "source": [
    "rgen = np.random.RandomState(1)\n",
    "init_W = rgen.normal(loc=0.0, scale=1, size=X.shape[0])\n",
    "init_t = rgen.normal(loc=0.0, scale=1, size=X.shape[0])\n",
    "print(f'init weights: {init_W}\\ninit bias: {init_t}')"
   ]
  },
  {
   "cell_type": "code",
   "execution_count": 22,
   "id": "3baec2e6",
   "metadata": {},
   "outputs": [
    {
     "data": {
      "text/plain": [
       "array([6.29364134, 3.12669502, 7.17304548, 4.66702681])"
      ]
     },
     "execution_count": 22,
     "metadata": {},
     "output_type": "execute_result"
    }
   ],
   "source": [
    "y_pred = np.dot(X, init_W) + init_t\n",
    "y_pred"
   ]
  },
  {
   "cell_type": "code",
   "execution_count": 23,
   "id": "e44cc463",
   "metadata": {},
   "outputs": [],
   "source": [
    "def activation(sigma):\n",
    "    return np.where(sigma>=0, 1, -1)"
   ]
  },
  {
   "cell_type": "code",
   "execution_count": 24,
   "id": "c3f30341",
   "metadata": {},
   "outputs": [
    {
     "data": {
      "text/plain": [
       "array([1, 1, 1, 1])"
      ]
     },
     "execution_count": 24,
     "metadata": {},
     "output_type": "execute_result"
    }
   ],
   "source": [
    "y_pred_activation = activation(y_pred)\n",
    "y_pred_activation"
   ]
  },
  {
   "cell_type": "markdown",
   "id": "13296a3a",
   "metadata": {},
   "source": [
    "### without initial weights and bias"
   ]
  },
  {
   "cell_type": "code",
   "execution_count": 25,
   "id": "6a1ead63",
   "metadata": {},
   "outputs": [
    {
     "data": {
      "text/plain": [
       "array([7. , 3.2, 4.7, 1.4])"
      ]
     },
     "execution_count": 25,
     "metadata": {},
     "output_type": "execute_result"
    }
   ],
   "source": [
    "X = np.array([7, 3.2, 4.7, 1.4])\n",
    "X"
   ]
  },
  {
   "cell_type": "code",
   "execution_count": 26,
   "id": "dc2e8ba1",
   "metadata": {},
   "outputs": [
    {
     "name": "stdout",
     "output_type": "stream",
     "text": [
      "init weights: 0\n",
      "init bias: 0\n"
     ]
    }
   ],
   "source": [
    "init_W = 0\n",
    "init_t = 0\n",
    "print(f'init weights: {init_W}\\ninit bias: {init_t}')"
   ]
  },
  {
   "cell_type": "code",
   "execution_count": 27,
   "id": "00149f0d",
   "metadata": {},
   "outputs": [
    {
     "data": {
      "text/plain": [
       "array([0., 0., 0., 0.])"
      ]
     },
     "execution_count": 27,
     "metadata": {},
     "output_type": "execute_result"
    }
   ],
   "source": [
    "y_pred = np.dot(X, init_W) + init_t\n",
    "y_pred"
   ]
  },
  {
   "cell_type": "markdown",
   "id": "974cc90d",
   "metadata": {},
   "source": [
    "4) Train the single layer perceptron for **5 epochs** according to the\n",
    "following updating formulas. Grid-search the (at least 3) **learning rate\n",
    "r ranging from 0.001 to 0.01** and find the optimum one. For each\n",
    "learning rate r , you are required to calculate the **classification accuracy**\n",
    "of the training set and the test set for each epoch, **plot it in a figure and\n",
    "present it in a tabl**e. Discuss the effects of different learning rates on\n",
    "the training and performance of the perceptron.\n",
    "![](images/2.png)"
   ]
  },
  {
   "cell_type": "code",
   "execution_count": 28,
   "id": "5bbea893",
   "metadata": {},
   "outputs": [],
   "source": [
    "class Perceptron:\n",
    "    def __init__(self, lr=0.01, epochs=5, random_state=1):\n",
    "        self.lr = lr\n",
    "        self.epochs = epochs\n",
    "        self.random_state = random_state\n",
    "\n",
    "    \n",
    "    def fit(self, X, Y, X_test, Y_test):\n",
    "        \"\"\"Fit training data.\n",
    "        Parameters\n",
    "        ----------\n",
    "        X : {array-like}, shape = [n_examples, n_features]\n",
    "        Training vectors, where n_examples is the number of\n",
    "        examples and n_features is the number of features.\n",
    "        y : array-like, shape = [n_examples]\n",
    "        Target values.\n",
    "        Returns\n",
    "        -------\n",
    "        self : object\n",
    "        \n",
    "        \"\"\"\n",
    "        self.init_weights(X)\n",
    "        \n",
    "        self.train_acc = []\n",
    "        self.test_acc = []\n",
    "        \n",
    "        self.train_losses = []\n",
    "        self.test_losses = []\n",
    "        \n",
    "        for _ in range(self.epochs):\n",
    "            \n",
    "            train_correct = 0\n",
    "            test_correct = 0\n",
    "            \n",
    "            train_loss = 0\n",
    "            test_loss = 0\n",
    "            \n",
    "            train_size = len(X) * 4\n",
    "            test_size = len(X_test) * 4\n",
    "            \n",
    "            \n",
    "            for x, y in zip(X, Y):\n",
    "                \n",
    "                y_pred = self.activation(np.dot(x, self.w) + self.t)\n",
    "                \n",
    "                w_new = self.w + self.lr * (y - y_pred) * x\n",
    "                t_new = self.t + self.lr * (y - y_pred)\n",
    "                self.w = w_new\n",
    "                self.t = t_new\n",
    "                \n",
    "                errors = y - y_pred\n",
    "                loss = (errors**2).mean()\n",
    "                \n",
    "                train_loss += loss\n",
    "                train_correct += np.sum(y_pred == y)\n",
    "                \n",
    "            train_correct /= train_size\n",
    "            train_loss /= train_size\n",
    "            \n",
    "            self.train_losses.append(train_loss)\n",
    "            self.train_acc.append(train_correct)\n",
    "            \n",
    "             \n",
    "            \n",
    "            \n",
    "            for x, y in zip(X_test, Y_test):\n",
    "                y_pred = self.activation(np.dot(x, self.w) + self.t)\n",
    "                \n",
    "                w_new = self.w + self.lr * (y - y_pred) * x\n",
    "                t_new = self.t + self.lr * (y - y_pred)\n",
    "                self.w = w_new\n",
    "                self.t = t_new\n",
    "                \n",
    "                errors = y - y_pred\n",
    "                loss = (errors**2).mean()\n",
    "                \n",
    "                test_loss += loss\n",
    "                test_correct += np.sum(y_pred == y)\n",
    "                \n",
    "            test_correct /= test_size\n",
    "            test_loss /= test_size\n",
    "            \n",
    "            self.test_losses.append(test_loss)\n",
    "            self.test_acc.append(test_correct)\n",
    "            print(f\"train_accuracy: {(100*train_correct):>0.1f}% | train_loss: {train_loss:>8f} | test_accuracy: {(100*test_correct):>0.1f}% | test_loss: {test_loss:>8f} \\n\")  \n",
    "            \n",
    "        return self.train_acc, self.train_losses, self.test_acc, self.test_losses\n",
    "    \n",
    "    def activation(self, sigma):\n",
    "        return np.where(sigma>=0, 1, -1)\n",
    "    \n",
    "    def init_weights(self, X):\n",
    "        # Randomly initialize the values of weights w and bias t \n",
    "        # (ensure that the value of w and t are sampled from \n",
    "        # a standard normal distribution with 0 mean and 1 std)\n",
    "        rgen = np.random.RandomState(self.random_state)\n",
    "        self.w = rgen.normal(loc=0.0, scale=1, size=X.shape[1])\n",
    "        self.t = rgen.normal(loc=0.0, scale=1, size=X.shape[1])\n",
    "        print(f'init weights: {self.w}\\ninit bias: {self.t}\\n')"
   ]
  },
  {
   "cell_type": "code",
   "execution_count": 29,
   "id": "0b4418aa",
   "metadata": {},
   "outputs": [
    {
     "name": "stdout",
     "output_type": "stream",
     "text": [
      "init weights: [ 1.62434536 -0.61175641 -0.52817175 -1.07296862]\n",
      "init bias: [ 0.86540763 -2.3015387   1.74481176 -0.7612069 ]\n",
      "\n",
      "train_accuracy: 50.3% | train_loss: 0.496875 | test_accuracy: 50.0% | test_loss: 0.500000 \n",
      "\n",
      "train_accuracy: 52.5% | train_loss: 0.475000 | test_accuracy: 56.2% | test_loss: 0.437500 \n",
      "\n",
      "train_accuracy: 56.9% | train_loss: 0.431250 | test_accuracy: 61.3% | test_loss: 0.387500 \n",
      "\n",
      "train_accuracy: 58.1% | train_loss: 0.418750 | test_accuracy: 55.0% | test_loss: 0.450000 \n",
      "\n",
      "train_accuracy: 53.8% | train_loss: 0.462500 | test_accuracy: 55.0% | test_loss: 0.450000 \n",
      "\n"
     ]
    }
   ],
   "source": [
    "iris = Perceptron(lr=0.001,epochs=5).fit(training_set_std, training_set_y_label, test_set_std, test_set_y_label)"
   ]
  },
  {
   "cell_type": "code",
   "execution_count": 30,
   "id": "4a2d62e5",
   "metadata": {},
   "outputs": [
    {
     "data": {
      "text/html": [
       "<div>\n",
       "<style scoped>\n",
       "    .dataframe tbody tr th:only-of-type {\n",
       "        vertical-align: middle;\n",
       "    }\n",
       "\n",
       "    .dataframe tbody tr th {\n",
       "        vertical-align: top;\n",
       "    }\n",
       "\n",
       "    .dataframe thead th {\n",
       "        text-align: right;\n",
       "    }\n",
       "</style>\n",
       "<table border=\"1\" class=\"dataframe\">\n",
       "  <thead>\n",
       "    <tr style=\"text-align: right;\">\n",
       "      <th></th>\n",
       "      <th>train_accuracy</th>\n",
       "      <th>train_loss</th>\n",
       "      <th>test_accuracy</th>\n",
       "      <th>test_loss</th>\n",
       "    </tr>\n",
       "  </thead>\n",
       "  <tbody>\n",
       "    <tr>\n",
       "      <th>0</th>\n",
       "      <td>0.503125</td>\n",
       "      <td>0.496875</td>\n",
       "      <td>0.5000</td>\n",
       "      <td>0.5000</td>\n",
       "    </tr>\n",
       "    <tr>\n",
       "      <th>1</th>\n",
       "      <td>0.525000</td>\n",
       "      <td>0.475000</td>\n",
       "      <td>0.5625</td>\n",
       "      <td>0.4375</td>\n",
       "    </tr>\n",
       "    <tr>\n",
       "      <th>2</th>\n",
       "      <td>0.568750</td>\n",
       "      <td>0.431250</td>\n",
       "      <td>0.6125</td>\n",
       "      <td>0.3875</td>\n",
       "    </tr>\n",
       "    <tr>\n",
       "      <th>3</th>\n",
       "      <td>0.581250</td>\n",
       "      <td>0.418750</td>\n",
       "      <td>0.5500</td>\n",
       "      <td>0.4500</td>\n",
       "    </tr>\n",
       "    <tr>\n",
       "      <th>4</th>\n",
       "      <td>0.537500</td>\n",
       "      <td>0.462500</td>\n",
       "      <td>0.5500</td>\n",
       "      <td>0.4500</td>\n",
       "    </tr>\n",
       "  </tbody>\n",
       "</table>\n",
       "</div>"
      ],
      "text/plain": [
       "   train_accuracy  train_loss  test_accuracy  test_loss\n",
       "0        0.503125    0.496875         0.5000     0.5000\n",
       "1        0.525000    0.475000         0.5625     0.4375\n",
       "2        0.568750    0.431250         0.6125     0.3875\n",
       "3        0.581250    0.418750         0.5500     0.4500\n",
       "4        0.537500    0.462500         0.5500     0.4500"
      ]
     },
     "execution_count": 30,
     "metadata": {},
     "output_type": "execute_result"
    }
   ],
   "source": [
    "pd.DataFrame({\n",
    "    'train_accuracy': iris[0],\n",
    "    'train_loss': iris[1],\n",
    "    'test_accuracy': iris[2],\n",
    "    'test_loss': iris[3]\n",
    "})"
   ]
  },
  {
   "cell_type": "code",
   "execution_count": 31,
   "id": "b456afc4",
   "metadata": {},
   "outputs": [
    {
     "data": {
      "text/plain": [
       "Text(0.5, 1.0, 'learning rate 0.001')"
      ]
     },
     "execution_count": 31,
     "metadata": {},
     "output_type": "execute_result"
    },
    {
     "data": {
      "image/png": "[encoded data removed]",
      "text/plain": [
       "<Figure size 432x288 with 1 Axes>"
      ]
     },
     "metadata": {
      "needs_background": "light"
     },
     "output_type": "display_data"
    }
   ],
   "source": [
    "plt.plot(iris[0], label='train_accuracy')\n",
    "# plt.plot(iris[1], label='train_loss')\n",
    "plt.plot(iris[2], label='test_accuracy')\n",
    "# plt.plot(iris[3], label='test_loss')\n",
    "plt.legend()\n",
    "plt.title('learning rate 0.001')"
   ]
  },
  {
   "cell_type": "code",
   "execution_count": 32,
   "id": "8722024d",
   "metadata": {},
   "outputs": [
    {
     "data": {
      "text/plain": [
       "Text(0.5, 1.0, 'learning rate 0.001')"
      ]
     },
     "execution_count": 32,
     "metadata": {},
     "output_type": "execute_result"
    },
    {
     "data": {
      "image/png": "[encoded data removed]",
      "text/plain": [
       "<Figure size 432x288 with 1 Axes>"
      ]
     },
     "metadata": {
      "needs_background": "light"
     },
     "output_type": "display_data"
    }
   ],
   "source": [
    "# plt.plot(iris[0], label='train_accuracy')\n",
    "plt.plot(iris[1], label='train_loss')\n",
    "# plt.plot(iris[2], label='test_accuracy')\n",
    "plt.plot(iris[3], label='test_loss')\n",
    "plt.legend()\n",
    "plt.title('learning rate 0.001')"
   ]
  },
  {
   "cell_type": "code",
   "execution_count": 33,
   "id": "6d6222e8",
   "metadata": {},
   "outputs": [
    {
     "name": "stdout",
     "output_type": "stream",
     "text": [
      "init weights: [ 1.62434536 -0.61175641 -0.52817175 -1.07296862]\n",
      "init bias: [ 0.86540763 -2.3015387   1.74481176 -0.7612069 ]\n",
      "\n",
      "train_accuracy: 63.4% | train_loss: 0.365625 | test_accuracy: 63.7% | test_loss: 0.362500 \n",
      "\n",
      "train_accuracy: 73.8% | train_loss: 0.262500 | test_accuracy: 85.0% | test_loss: 0.150000 \n",
      "\n",
      "train_accuracy: 83.4% | train_loss: 0.165625 | test_accuracy: 96.2% | test_loss: 0.037500 \n",
      "\n",
      "train_accuracy: 87.5% | train_loss: 0.125000 | test_accuracy: 97.5% | test_loss: 0.025000 \n",
      "\n",
      "train_accuracy: 89.7% | train_loss: 0.103125 | test_accuracy: 97.5% | test_loss: 0.025000 \n",
      "\n"
     ]
    }
   ],
   "source": [
    "iris = Perceptron(lr=0.01,epochs=5).fit(training_set_std, training_set_y_label, test_set_std, test_set_y_label)"
   ]
  },
  {
   "cell_type": "code",
   "execution_count": 34,
   "id": "858e5d38",
   "metadata": {},
   "outputs": [
    {
     "data": {
      "text/html": [
       "<div>\n",
       "<style scoped>\n",
       "    .dataframe tbody tr th:only-of-type {\n",
       "        vertical-align: middle;\n",
       "    }\n",
       "\n",
       "    .dataframe tbody tr th {\n",
       "        vertical-align: top;\n",
       "    }\n",
       "\n",
       "    .dataframe thead th {\n",
       "        text-align: right;\n",
       "    }\n",
       "</style>\n",
       "<table border=\"1\" class=\"dataframe\">\n",
       "  <thead>\n",
       "    <tr style=\"text-align: right;\">\n",
       "      <th></th>\n",
       "      <th>train_accuracy</th>\n",
       "      <th>train_loss</th>\n",
       "      <th>test_accuracy</th>\n",
       "      <th>test_loss</th>\n",
       "    </tr>\n",
       "  </thead>\n",
       "  <tbody>\n",
       "    <tr>\n",
       "      <th>0</th>\n",
       "      <td>0.634375</td>\n",
       "      <td>0.365625</td>\n",
       "      <td>0.6375</td>\n",
       "      <td>0.3625</td>\n",
       "    </tr>\n",
       "    <tr>\n",
       "      <th>1</th>\n",
       "      <td>0.737500</td>\n",
       "      <td>0.262500</td>\n",
       "      <td>0.8500</td>\n",
       "      <td>0.1500</td>\n",
       "    </tr>\n",
       "    <tr>\n",
       "      <th>2</th>\n",
       "      <td>0.834375</td>\n",
       "      <td>0.165625</td>\n",
       "      <td>0.9625</td>\n",
       "      <td>0.0375</td>\n",
       "    </tr>\n",
       "    <tr>\n",
       "      <th>3</th>\n",
       "      <td>0.875000</td>\n",
       "      <td>0.125000</td>\n",
       "      <td>0.9750</td>\n",
       "      <td>0.0250</td>\n",
       "    </tr>\n",
       "    <tr>\n",
       "      <th>4</th>\n",
       "      <td>0.896875</td>\n",
       "      <td>0.103125</td>\n",
       "      <td>0.9750</td>\n",
       "      <td>0.0250</td>\n",
       "    </tr>\n",
       "  </tbody>\n",
       "</table>\n",
       "</div>"
      ],
      "text/plain": [
       "   train_accuracy  train_loss  test_accuracy  test_loss\n",
       "0        0.634375    0.365625         0.6375     0.3625\n",
       "1        0.737500    0.262500         0.8500     0.1500\n",
       "2        0.834375    0.165625         0.9625     0.0375\n",
       "3        0.875000    0.125000         0.9750     0.0250\n",
       "4        0.896875    0.103125         0.9750     0.0250"
      ]
     },
     "execution_count": 34,
     "metadata": {},
     "output_type": "execute_result"
    }
   ],
   "source": [
    "pd.DataFrame({\n",
    "    'train_accuracy': iris[0],\n",
    "    'train_loss': iris[1],\n",
    "    'test_accuracy': iris[2],\n",
    "    'test_loss': iris[3]\n",
    "})"
   ]
  },
  {
   "cell_type": "code",
   "execution_count": 35,
   "id": "1ea794a9",
   "metadata": {},
   "outputs": [
    {
     "data": {
      "text/plain": [
       "Text(0.5, 1.0, 'learning rate 0.01')"
      ]
     },
     "execution_count": 35,
     "metadata": {},
     "output_type": "execute_result"
    },
    {
     "data": {
      "image/png": "[encoded data removed]",
      "text/plain": [
       "<Figure size 432x288 with 1 Axes>"
      ]
     },
     "metadata": {
      "needs_background": "light"
     },
     "output_type": "display_data"
    }
   ],
   "source": [
    "plt.plot(iris[0], label='train_accuracy')\n",
    "# plt.plot(iris[1], label='train_loss')\n",
    "plt.plot(iris[2], label='test_accuracy')\n",
    "# plt.plot(iris[3], label='test_loss')\n",
    "plt.legend()\n",
    "plt.title('learning rate 0.01')"
   ]
  },
  {
   "cell_type": "code",
   "execution_count": 36,
   "id": "8d8f3e68",
   "metadata": {},
   "outputs": [
    {
     "data": {
      "text/plain": [
       "Text(0.5, 1.0, 'learning rate 0.01')"
      ]
     },
     "execution_count": 36,
     "metadata": {},
     "output_type": "execute_result"
    },
    {
     "data": {
      "image/png": "[encoded data removed]",
      "text/plain": [
       "<Figure size 432x288 with 1 Axes>"
      ]
     },
     "metadata": {
      "needs_background": "light"
     },
     "output_type": "display_data"
    }
   ],
   "source": [
    "# plt.plot(iris[0], label='train_accuracy')\n",
    "plt.plot(iris[1], label='train_loss')\n",
    "# plt.plot(iris[2], label='test_accuracy')\n",
    "plt.plot(iris[3], label='test_loss')\n",
    "plt.legend()\n",
    "plt.title('learning rate 0.01')"
   ]
  },
  {
   "cell_type": "code",
   "execution_count": null,
   "id": "bf561587",
   "metadata": {},
   "outputs": [],
   "source": []
  }
 ],
 "metadata": {
  "kernelspec": {
   "display_name": "Python 3 (ipykernel)",
   "language": "python",
   "name": "python3"
  },
  "language_info": {
   "codemirror_mode": {
    "name": "ipython",
    "version": 3
   },
   "file_extension": ".py",
   "mimetype": "text/x-python",
   "name": "python",
   "nbconvert_exporter": "python",
   "pygments_lexer": "ipython3",
   "version": "3.9.7"
  }
 },
 "nbformat": 4,
 "nbformat_minor": 5
}
